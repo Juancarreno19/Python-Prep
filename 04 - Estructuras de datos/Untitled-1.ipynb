{
 "cells": [
  {
   "cell_type": "code",
   "execution_count": 1,
   "metadata": {},
   "outputs": [
    {
     "name": "stdout",
     "output_type": "stream",
     "text": [
      "['roma', 'buenos aires', 'tucuman', 'londres', 'miami']\n"
     ]
    }
   ],
   "source": [
    "#1) Crear una lista que contenga nombres de ciudades del mundo que contenga más de 5 elementos e imprimir por pantalla\n",
    "ciudades = [\"roma\",\"buenos aires\", \"tucuman\", \"londres\", \"miami\"]\n",
    "print(ciudades)"
   ]
  },
  {
   "cell_type": "code",
   "execution_count": 2,
   "metadata": {},
   "outputs": [
    {
     "name": "stdout",
     "output_type": "stream",
     "text": [
      "buenos aires\n"
     ]
    }
   ],
   "source": [
    "# Imprimir por pantalla el segundo elemento de la lista\n",
    "print(ciudades[1])"
   ]
  },
  {
   "cell_type": "code",
   "execution_count": 3,
   "metadata": {},
   "outputs": [
    {
     "name": "stdout",
     "output_type": "stream",
     "text": [
      "londres\n"
     ]
    }
   ],
   "source": [
    "print(ciudades[3])"
   ]
  },
  {
   "cell_type": "code",
   "execution_count": 4,
   "metadata": {},
   "outputs": [
    {
     "name": "stdout",
     "output_type": "stream",
     "text": [
      "<class 'list'>\n"
     ]
    }
   ],
   "source": [
    "print(type(ciudades))"
   ]
  },
  {
   "cell_type": "code",
   "execution_count": 5,
   "metadata": {},
   "outputs": [
    {
     "name": "stdout",
     "output_type": "stream",
     "text": [
      "['tucuman', 'londres', 'miami']\n"
     ]
    }
   ],
   "source": [
    "#Visualizar todos los elementos de la lista a partir del tercero de manera genérica, es decir, sin explicitar la posición del último elemento\n",
    "print(ciudades[2:])"
   ]
  },
  {
   "cell_type": "code",
   "execution_count": 6,
   "metadata": {},
   "outputs": [
    {
     "name": "stdout",
     "output_type": "stream",
     "text": [
      "['roma', 'buenos aires', 'tucuman']\n"
     ]
    }
   ],
   "source": [
    "print(ciudades[0:3])"
   ]
  },
  {
   "cell_type": "code",
   "execution_count": 7,
   "metadata": {},
   "outputs": [],
   "source": [
    "#Agregar una ciudad más a la lista que ya exista y otra que no ¿Arroja algún tipo de error?\n",
    "ciudades.append(\"barcelona\", )"
   ]
  },
  {
   "cell_type": "code",
   "execution_count": 8,
   "metadata": {},
   "outputs": [
    {
     "name": "stdout",
     "output_type": "stream",
     "text": [
      "['roma', 'buenos aires', 'tucuman', 'belgica', 'londres', 'miami', 'barcelona']\n"
     ]
    }
   ],
   "source": [
    "ciudades.insert(3,\"belgica\")\n",
    "print(ciudades[:])"
   ]
  },
  {
   "cell_type": "code",
   "execution_count": 9,
   "metadata": {},
   "outputs": [
    {
     "name": "stdout",
     "output_type": "stream",
     "text": [
      "['roma', 'buenos aires', 'tucuman', 'londres', 'miami', 'barcelona']\n"
     ]
    }
   ],
   "source": [
    "ciudades.remove(\"belgica\")\n",
    "print(ciudades)"
   ]
  },
  {
   "cell_type": "code",
   "execution_count": 10,
   "metadata": {},
   "outputs": [
    {
     "name": "stdout",
     "output_type": "stream",
     "text": [
      "['roma', 'buenos aires', 'tucuman', 'londres', 'miami', 'barcelona', 'argentina', 'españa', 'portugal']\n"
     ]
    }
   ],
   "source": [
    "#Concatenar otra lista a la ya creada\n",
    "paises = [\"argentina\" , \"españa\" , \"portugal\"]\n",
    "print(ciudades+paises)"
   ]
  },
  {
   "cell_type": "code",
   "execution_count": 11,
   "metadata": {},
   "outputs": [
    {
     "ename": "ValueError",
     "evalue": "'belgica' is not in list",
     "output_type": "error",
     "traceback": [
      "\u001b[1;31m---------------------------------------------------------------------------\u001b[0m",
      "\u001b[1;31mValueError\u001b[0m                                Traceback (most recent call last)",
      "\u001b[1;32mc:\\Users\\lenovo\\Documents\\GitHub\\Python-Prep\\04 - Estructuras de datos\\Untitled-1.ipynb Cell 11'\u001b[0m in \u001b[0;36m<cell line: 2>\u001b[1;34m()\u001b[0m\n\u001b[0;32m      <a href='vscode-notebook-cell:/c%3A/Users/lenovo/Documents/GitHub/Python-Prep/04%20-%20Estructuras%20de%20datos/Untitled-1.ipynb#ch0000010?line=0'>1</a>\u001b[0m \u001b[39m#0) Encontrar el índice de la ciudad que en el punto 7 agregamos duplicada. ¿Se nota alguna particularidad?\u001b[39;00m\n\u001b[1;32m----> <a href='vscode-notebook-cell:/c%3A/Users/lenovo/Documents/GitHub/Python-Prep/04%20-%20Estructuras%20de%20datos/Untitled-1.ipynb#ch0000010?line=1'>2</a>\u001b[0m \u001b[39mprint\u001b[39m(ciudades\u001b[39m.\u001b[39;49mindex(\u001b[39m\"\u001b[39;49m\u001b[39mbelgica\u001b[39;49m\u001b[39m\"\u001b[39;49m))\n",
      "\u001b[1;31mValueError\u001b[0m: 'belgica' is not in list"
     ]
    }
   ],
   "source": [
    "#0) Encontrar el índice de la ciudad que en el punto 7 agregamos duplicada. ¿Se nota alguna particularidad?\n"
   ]
  },
  {
   "cell_type": "code",
   "execution_count": null,
   "metadata": {},
   "outputs": [
    {
     "name": "stdout",
     "output_type": "stream",
     "text": [
      "barcelona\n"
     ]
    }
   ],
   "source": [
    "#14) Extraer el úlimo elemento de la lista, guardarlo en una variable e imprimirlo\n",
    "ultimo = ciudades.pop()\n",
    "print(ultimo)"
   ]
  },
  {
   "cell_type": "code",
   "execution_count": null,
   "metadata": {},
   "outputs": [
    {
     "name": "stdout",
     "output_type": "stream",
     "text": [
      "['roma', 'buenos aires', 'belgica', 'tucuman', 'belgica', 'belgica', 'belgica', 'belgica', 'londres', 'miami', 'roma', 'buenos aires', 'belgica', 'tucuman', 'belgica', 'belgica', 'belgica', 'belgica', 'londres', 'miami', 'roma', 'buenos aires', 'belgica', 'tucuman', 'belgica', 'belgica', 'belgica', 'belgica', 'londres', 'miami']\n"
     ]
    }
   ],
   "source": [
    "# Mostrar la lista multiplicada por 4\n",
    "print(ciudades *3)"
   ]
  },
  {
   "cell_type": "code",
   "execution_count": null,
   "metadata": {},
   "outputs": [
    {
     "name": "stdout",
     "output_type": "stream",
     "text": [
      "<class 'tuple'>\n"
     ]
    }
   ],
   "source": [
    "#16) Crear una tupla que contenga los números enteros del 1 al 20\n",
    "numeros = (1,2,3,4,5,6,7,8,9,10,11,12,13,14,15,16,17,18,19,20)\n",
    "print(type(numeros))"
   ]
  },
  {
   "cell_type": "code",
   "execution_count": null,
   "metadata": {},
   "outputs": [
    {
     "name": "stdout",
     "output_type": "stream",
     "text": [
      "(10, 11, 12, 13, 14, 15)\n"
     ]
    }
   ],
   "source": [
    "print(numeros[9:15])"
   ]
  },
  {
   "cell_type": "code",
   "execution_count": null,
   "metadata": {},
   "outputs": [
    {
     "name": "stdout",
     "output_type": "stream",
     "text": [
      "True\n",
      "False\n"
     ]
    }
   ],
   "source": [
    "print(20 in numeros)\n",
    "print(30 in numeros)"
   ]
  },
  {
   "cell_type": "code",
   "execution_count": null,
   "metadata": {},
   "outputs": [
    {
     "name": "stdout",
     "output_type": "stream",
     "text": [
      "<class 'list'>\n"
     ]
    }
   ],
   "source": [
    "seguidilla = (1,2,3,4,5,6,7,8,9,10)\n",
    "seguidilla = list(seguidilla)\n",
    "print(type(seguidilla))"
   ]
  },
  {
   "cell_type": "code",
   "execution_count": null,
   "metadata": {},
   "outputs": [
    {
     "name": "stdout",
     "output_type": "stream",
     "text": [
      "1 primero\n",
      "2 segundo\n",
      "3 tercero\n"
     ]
    }
   ],
   "source": [
    "1,2,3,4,5,6,7,8,9,10 == seguidilla\n",
    "print(1,\"primero\")\n",
    "print(2,\"segundo\")\n",
    "print(3, \"tercero\")"
   ]
  },
  {
   "cell_type": "code",
   "execution_count": null,
   "metadata": {},
   "outputs": [
    {
     "name": "stdout",
     "output_type": "stream",
     "text": [
      "{'ciudades': [['roma', 'buenos aires', 'belgica', 'tucuman', 'belgica', 'belgica', 'belgica', 'belgica', 'londres', 'miami']], 'paises': [[]], 'continentes': ['asia', 'america', 'europa']}\n"
     ]
    }
   ],
   "source": [
    "#Crear un diccionario utilizando la lista crada en el punto 1, asignandole la clave \"ciudad\". Agregar tambien otras claves, como puede ser \"Pais\" y \"Continente\".\n",
    "mi_diccionario = {\"ciudades\" : [ciudades], \"paises\" : [paises],\"continentes\" : [\"asia\", \"america\", \"europa\"]}\n",
    "print(mi_diccionario)\n"
   ]
  },
  {
   "cell_type": "code",
   "execution_count": null,
   "metadata": {},
   "outputs": [
    {
     "name": "stdout",
     "output_type": "stream",
     "text": [
      "dict_keys(['ciudades', 'paises', 'continentes'])\n"
     ]
    }
   ],
   "source": [
    "print(mi_diccionario.keys())"
   ]
  },
  {
   "cell_type": "code",
   "execution_count": null,
   "metadata": {},
   "outputs": [
    {
     "name": "stdout",
     "output_type": "stream",
     "text": [
      "dict_values([[['roma', 'buenos aires', 'belgica', 'tucuman', 'belgica', 'belgica', 'belgica', 'belgica', 'londres', 'miami']], [[]], ['asia', 'america', 'europa']])\n"
     ]
    }
   ],
   "source": [
    "print(mi_diccionario.values())\n"
   ]
  }
 ],
 "metadata": {
  "kernelspec": {
   "display_name": "Python 3.10.5 64-bit",
   "language": "python",
   "name": "python3"
  },
  "language_info": {
   "codemirror_mode": {
    "name": "ipython",
    "version": 3
   },
   "file_extension": ".py",
   "mimetype": "text/x-python",
   "name": "python",
   "nbconvert_exporter": "python",
   "pygments_lexer": "ipython3",
   "version": "3.10.5"
  },
  "orig_nbformat": 4,
  "vscode": {
   "interpreter": {
    "hash": "213524bb45a1aeaf737b1d8c77d7b8db5d425938d9dffc5f4bc6fe6dd3324700"
   }
  }
 },
 "nbformat": 4,
 "nbformat_minor": 2
}
