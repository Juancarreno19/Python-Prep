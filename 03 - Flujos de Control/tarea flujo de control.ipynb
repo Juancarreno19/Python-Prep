{
 "cells": [
  {
   "cell_type": "code",
   "execution_count": 5,
   "metadata": {},
   "outputs": [
    {
     "name": "stdout",
     "output_type": "stream",
     "text": [
      "La varaible es mayor a cero\n"
     ]
    }
   ],
   "source": [
    "a = 10\n",
    "if (a < 0):\n",
    "    print('La variable es menor a cero')\n",
    "elif (a > 0): \n",
    "    print('La varaible es mayor a cero')\n",
    "else:\n",
    "    print('La variable es igual a cero')"
   ]
  },
  {
   "cell_type": "code",
   "execution_count": 15,
   "metadata": {},
   "outputs": [
    {
     "name": "stdout",
     "output_type": "stream",
     "text": [
      "las variables son de tipo diferentes\n"
     ]
    }
   ],
   "source": [
    "# Crear dos variables y un condicional que informe si son del mismo tipo de dato\n",
    "var1 = 4\n",
    "var2 = \"hola\"\n",
    "if(type(var1) == type(var2)):\n",
    "        print ( \"son el mismo tipo de dato\")\n",
    "else:\n",
    "        print (\"las variables son de tipo diferentes\")\n"
   ]
  },
  {
   "cell_type": "code",
   "execution_count": 18,
   "metadata": {},
   "outputs": [
    {
     "name": "stdout",
     "output_type": "stream",
     "text": [
      "el nuemero 1  es impar\n",
      "el numero 2 es par\n",
      "el nuemero 3  es impar\n",
      "el numero 4 es par\n",
      "el nuemero 5  es impar\n",
      "el numero 6 es par\n",
      "el nuemero 7  es impar\n",
      "el numero 8 es par\n",
      "el nuemero 9  es impar\n",
      "el numero 10 es par\n",
      "el nuemero 11  es impar\n",
      "el numero 12 es par\n",
      "el nuemero 13  es impar\n",
      "el numero 14 es par\n",
      "el nuemero 15  es impar\n",
      "el numero 16 es par\n",
      "el nuemero 17  es impar\n",
      "el numero 18 es par\n",
      "el nuemero 19  es impar\n",
      "el numero 20 es par\n"
     ]
    }
   ],
   "source": [
    "#3) Para los valores enteros del 1 al 20, imprimir por pantalla si es par o impar\n",
    "for n in range(1,21):\n",
    " if n % 2 == 0:\n",
    "    print(\"el numero\", str(n) , \"es par\")\n",
    " else:\n",
    "    print(\"el nuemero\", str (n), \" es impar\")"
   ]
  },
  {
   "cell_type": "code",
   "execution_count": null,
   "metadata": {},
   "outputs": [],
   "source": [
    "  \n"
   ]
  },
  {
   "cell_type": "code",
   "execution_count": 26,
   "metadata": {},
   "outputs": [
    {
     "name": "stdout",
     "output_type": "stream",
     "text": [
      "EL VALOR: 0 el resultado de elevarlo a la potencia 0\n",
      "EL VALOR: 1 el resultado de elevarlo a la potencia 1\n",
      "EL VALOR: 2 el resultado de elevarlo a la potencia 8\n",
      "EL VALOR: 3 el resultado de elevarlo a la potencia 27\n",
      "EL VALOR: 4 el resultado de elevarlo a la potencia 64\n",
      "EL VALOR: 5 el resultado de elevarlo a la potencia 125\n"
     ]
    }
   ],
   "source": [
    "#4) En un ciclo for mostrar para los valores entre 0 y 5 el resultado de elevarlo a la potencia igual a 3\n",
    "for b in range (0,6):\n",
    "    print(\"EL VALOR:\", b ,\"el resultado de elevarlo a la potencia\", b**3 , )\n"
   ]
  },
  {
   "cell_type": "code",
   "execution_count": 35,
   "metadata": {},
   "outputs": [
    {
     "name": "stdout",
     "output_type": "stream",
     "text": [
      "0\n",
      "1\n",
      "2\n",
      "3\n",
      "4\n",
      "5\n",
      "6\n"
     ]
    }
   ],
   "source": [
    "#5) Crear una variable que contenga un número entero y realizar un ciclo for la misma cantidad de ciclos\n",
    "n = 7 \n",
    "for i in range(0,n):\n",
    "    print(i)\n"
   ]
  },
  {
   "cell_type": "code",
   "execution_count": null,
   "metadata": {},
   "outputs": [],
   "source": [
    "a = 8\n"
   ]
  },
  {
   "cell_type": "code",
   "execution_count": 20,
   "metadata": {},
   "outputs": [
    {
     "name": "stdout",
     "output_type": "stream",
     "text": [
      "El factorial es 120\n"
     ]
    }
   ],
   "source": [
    "#6) Utilizar un ciclo while para realizar el factorial de un número guardado en una variable, sólo si la variable contiene un número entero mayor a 0\n",
    "n = 5\n",
    "if (type(n) == int):\n",
    "    if (n > 0):\n",
    "        factorial = n\n",
    "        while (n > 2):\n",
    "            n = n - 1\n",
    "            factorial = factorial * n\n",
    "        print('El factorial es', factorial)\n",
    "    else:\n",
    "        print('La variable no es mayor a cero')\n",
    "else:\n",
    "    print('La variable no es un entero')\n",
    "    \n",
    "\n"
   ]
  },
  {
   "cell_type": "code",
   "execution_count": null,
   "metadata": {},
   "outputs": [],
   "source": []
  },
  {
   "cell_type": "code",
   "execution_count": 43,
   "metadata": {},
   "outputs": [
    {
     "name": "stdout",
     "output_type": "stream",
     "text": [
      "Ciclo while nro 2\n",
      "Ciclo for nro 1\n",
      "Ciclo while nro 2\n",
      "Ciclo for nro 2\n",
      "Ciclo while nro 1\n",
      "Ciclo for nro 1\n",
      "Ciclo while nro 1\n",
      "Ciclo for nro 2\n",
      "Ciclo while nro 0\n",
      "Ciclo for nro 1\n",
      "Ciclo while nro 0\n",
      "Ciclo for nro 2\n"
     ]
    }
   ],
   "source": [
    "n = 3\n",
    "while (n > 0):\n",
    "    n -= 1\n",
    "    for i in range (1,3):\n",
    "    \n",
    "        print('Ciclo while nro ' + str(n))\n",
    "        print('Ciclo for nro ' + str(i))\n",
    "\n"
   ]
  },
  {
   "cell_type": "code",
   "execution_count": 52,
   "metadata": {},
   "outputs": [
    {
     "name": "stdout",
     "output_type": "stream",
     "text": [
      "el nuimero es  102\n"
     ]
    }
   ],
   "source": [
    "n = 100\n",
    "while (n<=300):\n",
    "    if(n % 6 == 0):\n",
    "        print( \"el nuimero es \", str(n))\n",
    "        break\n",
    "    n += 1"
   ]
  },
  {
   "cell_type": "code",
   "execution_count": 29,
   "metadata": {},
   "outputs": [
    {
     "name": "stdout",
     "output_type": "stream",
     "text": [
      "0 es primo\n",
      "1 es primo\n",
      "2 es primo\n",
      "3 es primo\n",
      "5 es primo\n",
      "7 es primo\n",
      "11 es primo\n",
      "13 es primo\n",
      "17 es primo\n",
      "19 es primo\n",
      "23 es primo\n",
      "29 es primo\n"
     ]
    }
   ],
   "source": [
    "tope_rango=30\n",
    "n = 0\n",
    "primo = True\n",
    "while (n < tope_rango):\n",
    "    for div in range(2, n):\n",
    "        if (n % div == 0):\n",
    "            primo = False\n",
    "            break\n",
    "    if (primo):\n",
    "        print(n,\"es primo\")\n",
    "    else:\n",
    "        primo = True\n",
    "    n += 1"
   ]
  },
  {
   "cell_type": "code",
   "execution_count": 33,
   "metadata": {},
   "outputs": [
    {
     "name": "stdout",
     "output_type": "stream",
     "text": [
      "108 los valores divisible por doce son:\n",
      "120 los valores divisible por doce son:\n",
      "132 los valores divisible por doce son:\n",
      "144 los valores divisible por doce son:\n",
      "156 los valores divisible por doce son:\n",
      "168 los valores divisible por doce son:\n",
      "180 los valores divisible por doce son:\n",
      "192 los valores divisible por doce son:\n",
      "204 los valores divisible por doce son:\n",
      "216 los valores divisible por doce son:\n",
      "228 los valores divisible por doce son:\n",
      "240 los valores divisible por doce son:\n",
      "252 los valores divisible por doce son:\n",
      "264 los valores divisible por doce son:\n",
      "276 los valores divisible por doce son:\n",
      "288 los valores divisible por doce son:\n",
      "300 los valores divisible por doce son:\n"
     ]
    }
   ],
   "source": [
    "n = 99\n",
    "while(n <= 300):\n",
    "    n += 1\n",
    "    if(n % 12 != 0):\n",
    "        continue\n",
    "    \n",
    "    print(n,\"los valores divisible por doce son:\")"
   ]
  },
  {
   "cell_type": "code",
   "execution_count": null,
   "metadata": {},
   "outputs": [],
   "source": []
  }
 ],
 "metadata": {
  "kernelspec": {
   "display_name": "Python 3.10.5 64-bit",
   "language": "python",
   "name": "python3"
  },
  "language_info": {
   "codemirror_mode": {
    "name": "ipython",
    "version": 3
   },
   "file_extension": ".py",
   "mimetype": "text/x-python",
   "name": "python",
   "nbconvert_exporter": "python",
   "pygments_lexer": "ipython3",
   "version": "3.10.5"
  },
  "orig_nbformat": 4,
  "vscode": {
   "interpreter": {
    "hash": "213524bb45a1aeaf737b1d8c77d7b8db5d425938d9dffc5f4bc6fe6dd3324700"
   }
  }
 },
 "nbformat": 4,
 "nbformat_minor": 2
}
